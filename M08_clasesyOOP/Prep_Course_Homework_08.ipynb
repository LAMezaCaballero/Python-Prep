{
 "cells": [
  {
   "attachments": {},
   "cell_type": "markdown",
   "metadata": {},
   "source": [
    "## Clases y Programación Orientada a Objetos"
   ]
  },
  {
   "attachments": {},
   "cell_type": "markdown",
   "metadata": {},
   "source": [
    "1) Crear la clase vehículo que contenga los atributos:<br>\n",
    "Color<br>\n",
    "Si es moto, auto, camioneta ó camión<br>\n",
    "Cilindrada del motor"
   ]
  },
  {
   "cell_type": "code",
   "execution_count": null,
   "metadata": {},
   "outputs": [],
   "source": [
    "class vehiculo:\n",
    "    def __init__(self, color, tipo, cilindrida):\n",
    "        self.color = color\n",
    "        self.tipo = tipo\n",
    "        self.cilindrida = cilindrida"
   ]
  },
  {
   "attachments": {},
   "cell_type": "markdown",
   "metadata": {},
   "source": [
    "2) A la clase Vehiculo creada en el punto 1, agregar los siguientes métodos:<br>\n",
    "Acelerar<br>\n",
    "Frenar<br>\n",
    "Doblar<br>"
   ]
  },
  {
   "cell_type": "code",
   "execution_count": 9,
   "metadata": {},
   "outputs": [],
   "source": [
    "class vehiculo:\n",
    "    def __init__(self, color, tipo, cilindrida):\n",
    "        self.color = color\n",
    "        self.tipo = tipo\n",
    "        self.cilindrida = cilindrida\n",
    "        self.vel = 0\n",
    "        self.direccion = 0\n",
    "#metodos\n",
    "    def acel(self, vel):\n",
    "        self.vel += vel\n",
    "    \n",
    "    def frena(self, vel):\n",
    "        self.vel -= vel\n",
    "    \n",
    "    def doblar(self, grados):\n",
    "        self.direccion +=grados"
   ]
  },
  {
   "attachments": {},
   "cell_type": "markdown",
   "metadata": {},
   "source": [
    "3) Instanciar 3 objetos de la clase vehículo y ejecutar sus métodos, probar luego el resultado"
   ]
  },
  {
   "cell_type": "code",
   "execution_count": 10,
   "metadata": {},
   "outputs": [],
   "source": [
    "a = vehiculo('blanco','camioneta', 6)\n",
    "s= vehiculo('negro','moto',2)\n",
    "d= vehiculo('gris','camion','12')"
   ]
  },
  {
   "attachments": {},
   "cell_type": "markdown",
   "metadata": {},
   "source": [
    "4) Agregar a la clase Vehiculo, un método que muestre su estado, es decir, a que velocidad se encuentra y su dirección. Y otro método que muestre color, tipo y cilindrada"
   ]
  },
  {
   "cell_type": "code",
   "execution_count": 49,
   "metadata": {},
   "outputs": [],
   "source": [
    "class vehiculo:\n",
    "    def __init__(self, color, tipo, cilindrida):\n",
    "        self.color = color\n",
    "        self.tipo = tipo\n",
    "        self.cilindrida = cilindrida\n",
    "        self.vel = 0\n",
    "        self.direccion = 0\n",
    "#metodos\n",
    "    def acel(self, vel):\n",
    "        self.vel += vel\n",
    "    \n",
    "    def frena(self, vel):\n",
    "        self.vel -= vel\n",
    "    \n",
    "    def doblar(self, grados):\n",
    "        self.direccion +=grados\n",
    "\n",
    "    def status(self):\n",
    "       print( 'la velo', self.vel, 'la dire', self.direccion)\n",
    "\n",
    "    def detalle(self):\n",
    "        print(f'color {self.color}  tipo {self.tipo}  cilindrada {self.cilindrida}')\n"
   ]
  },
  {
   "cell_type": "code",
   "execution_count": 50,
   "metadata": {},
   "outputs": [],
   "source": [
    "a = vehiculo('blanco','camioneta', 6)\n",
    "s= vehiculo('negro','moto',2)\n",
    "d= vehiculo('gris','camion','12')"
   ]
  },
  {
   "attachments": {},
   "cell_type": "markdown",
   "metadata": {},
   "source": [
    "5) Crear una clase que permita utilizar las funciones creadas en la práctica del módulo 7<br>\n",
    "Verificar Primo<br>\n",
    "Valor modal<br>\n",
    "Conversión grados<br>\n",
    "Factorial<br>"
   ]
  },
  {
   "cell_type": "code",
   "execution_count": 99,
   "metadata": {},
   "outputs": [],
   "source": [
    "class H7:\n",
    "    \n",
    "    def __init__(self) :\n",
    "        pass\n",
    "\n",
    "    def primo(self, num):\n",
    "        loes = True\n",
    "        for i in range (2, num):\n",
    "            if  num%i ==0:\n",
    "                loes = False\n",
    "                break\n",
    "        return loes\n",
    "\n",
    "    def valor_modal(self, lista, menor=True):\n",
    "        lista_unicos = []\n",
    "        lista_repeticiones = []\n",
    "        if len(lista) == 0:\n",
    "            return None\n",
    "        if menor:\n",
    "           lista.sort()\n",
    "        else:\n",
    "            lista.sort(reverse=True)    \n",
    "        for elemento in lista:\n",
    "            if elemento in lista_unicos:\n",
    "                i = lista_unicos.index(elemento)\n",
    "                lista_repeticiones[i] += 1\n",
    "            else:\n",
    "                lista_unicos.append(elemento)\n",
    "                lista_repeticiones.append(1)\n",
    "        moda = lista_unicos[0]\n",
    "        maximo = lista_repeticiones[0]\n",
    "        for i, elemento in enumerate(lista_unicos):\n",
    "            if lista_repeticiones[i] > maximo:\n",
    "                moda = lista_unicos[i]\n",
    "                maximo = lista_repeticiones[i]\n",
    "        return moda, maximo\n",
    "\n",
    "    def conver_grados(self, valor, origen, destino):\n",
    "        valor_destino=None\n",
    "        if origen == destino:\n",
    "            print('es el mismo')\n",
    "            valor_destino = valor\n",
    "        elif origen == 'celsius':\n",
    "            if destino == 'farenheit':\n",
    "                valor_destino = (valor * 9 / 5) + 32  \n",
    "            elif destino == 'kelvin':\n",
    "                valor_destino = valor + 273.15\n",
    "    \n",
    "        elif origen == 'farenheit':\n",
    "            if destino == 'celsius':\n",
    "                valor_destino = (valor  + 32 )/9 * 5 \n",
    "            elif destino == 'kelvin':\n",
    "                valor_destino =(valor * 9 / 5) + 32 + 273.15\n",
    "\n",
    "        elif origen == 'kelvin':\n",
    "            if destino == 'farenheit':\n",
    "                valor_destino = ((valor-273.15 )* 9 / 5) + 32  \n",
    "            elif destino == 'celsius':\n",
    "                valor_destino = valor - 273.15\n",
    "\n",
    "        else : \n",
    "            print('el origen o destino son invalidos')\n",
    "        if valor_destino != None:\n",
    "            print(f'la temp {valor} {origen} equivale a {valor_destino} {destino}')        \n",
    "\n",
    "\n",
    "    def factorial(self, num):\n",
    "        if type(num) != int:\n",
    "            return 'El número debe ser un entero'\n",
    "        if num < 0:\n",
    "            return 'El número debe ser positivo'\n",
    "\n",
    "        if num > 1:\n",
    "            num = num * self.factorial(num-1)\n",
    "        return num     \n",
    "\n",
    "\n"
   ]
  },
  {
   "cell_type": "code",
   "execution_count": 104,
   "metadata": {},
   "outputs": [],
   "source": [
    "h=H7()"
   ]
  },
  {
   "attachments": {},
   "cell_type": "markdown",
   "metadata": {},
   "source": [
    "6) Probar las funciones incorporadas en la clase del punto 5"
   ]
  },
  {
   "cell_type": "code",
   "execution_count": 105,
   "metadata": {},
   "outputs": [
    {
     "data": {
      "text/plain": [
       "120"
      ]
     },
     "execution_count": 105,
     "metadata": {},
     "output_type": "execute_result"
    }
   ],
   "source": [
    "h=H7()\n",
    "h.factorial(5)"
   ]
  },
  {
   "cell_type": "code",
   "execution_count": 106,
   "metadata": {},
   "outputs": [
    {
     "data": {
      "text/plain": [
       "False"
      ]
     },
     "execution_count": 106,
     "metadata": {},
     "output_type": "execute_result"
    }
   ],
   "source": [
    "h.primo(16)"
   ]
  },
  {
   "cell_type": "code",
   "execution_count": 107,
   "metadata": {},
   "outputs": [
    {
     "name": "stdout",
     "output_type": "stream",
     "text": [
      "la temp 1 celsius equivale a 274.15 kelvin\n"
     ]
    }
   ],
   "source": [
    "h.conver_grados(1,'celsius','kelvin')"
   ]
  },
  {
   "cell_type": "code",
   "execution_count": 108,
   "metadata": {},
   "outputs": [
    {
     "name": "stdout",
     "output_type": "stream",
     "text": [
      "la moda es 8 y se repite 2\n"
     ]
    }
   ],
   "source": [
    "listado = [1,8,2,5,4,8,10,7]\n",
    "moda, repe = h.valor_modal(listado, True)\n",
    "print(f'la moda es {moda} y se repite {repe}')\n",
    "\n"
   ]
  },
  {
   "attachments": {},
   "cell_type": "markdown",
   "metadata": {},
   "source": [
    "7) Es necesario que la clase creada en el punto 5 contenga una lista, sobre la cual se apliquen las funciones incorporadas"
   ]
  },
  {
   "cell_type": "code",
   "execution_count": 142,
   "metadata": {},
   "outputs": [],
   "source": [
    "class H7list:\n",
    "    \n",
    "    def __init__(self, lis_num) :\n",
    "        self.lista = lis_num\n",
    "        \n",
    "#---------------------------primo----------------------------------------\n",
    "    def primo(self, num):\n",
    "        loes = True\n",
    "        for i in range (2, num):\n",
    "            if  num%i ==0:\n",
    "                loes = False\n",
    "                break\n",
    "        return loes\n",
    "\n",
    "    def primolista(self):\n",
    "        for i in self.lista:\n",
    "            if (self.primo(i)) :\n",
    "                print(f'el numero {i} Si es primo')\n",
    "            else:\n",
    "                print(f'el numero {i} No es primo')\n",
    "#---------------------------moda----------------------------------------\n",
    "    def valor_modal_lista(self, menor=True):\n",
    "        lista_unicos = []\n",
    "        lista_repeticiones = []\n",
    "        if len(self.lista) == 0:\n",
    "            return None\n",
    "        if menor:\n",
    "           self.lista.sort()\n",
    "        else:\n",
    "            self.lista.sort(reverse=True)    \n",
    "        for elemento in self.lista:\n",
    "            if elemento in lista_unicos:\n",
    "                i = lista_unicos.index(elemento)\n",
    "                lista_repeticiones[i] += 1\n",
    "            else:\n",
    "                lista_unicos.append(elemento)\n",
    "                lista_repeticiones.append(1)\n",
    "        moda = lista_unicos[0]\n",
    "        maximo = lista_repeticiones[0]\n",
    "        for i, elemento in enumerate(lista_unicos):\n",
    "            if lista_repeticiones[i] > maximo:\n",
    "                moda = lista_unicos[i]\n",
    "                maximo = lista_repeticiones[i]\n",
    "        return print(f'el valor modal es {moda}, y se repite {maximo} veces')\n",
    "\n",
    "   \n",
    "\n",
    "#---------------------------temperatura----------------------------------------\n",
    "    def conver_grados(self, valor, origen, destino):\n",
    "        valor_destino=None\n",
    "        if origen == destino:\n",
    "            print('es el mismo')\n",
    "            valor_destino = valor\n",
    "        elif origen == 'celsius':\n",
    "            if destino == 'farenheit':\n",
    "                valor_destino = (valor * 9 / 5) + 32  \n",
    "            elif destino == 'kelvin':\n",
    "                valor_destino = valor + 273.15\n",
    "    \n",
    "        elif origen == 'farenheit':\n",
    "            if destino == 'celsius':\n",
    "                valor_destino = (valor  + 32 )/9 * 5 \n",
    "            elif destino == 'kelvin':\n",
    "                valor_destino =(valor * 9 / 5) + 32 + 273.15\n",
    "\n",
    "        elif origen == 'kelvin':\n",
    "            if destino == 'farenheit':\n",
    "                valor_destino = ((valor-273.15 )* 9 / 5) + 32  \n",
    "            elif destino == 'celsius':\n",
    "                valor_destino = valor - 273.15\n",
    "\n",
    "        else : \n",
    "            print('el origen o destino son invalidos')\n",
    "        if valor_destino != None:\n",
    "            print(f'la temp {valor} {origen} equivale a {valor_destino} {destino}')        \n",
    "\n",
    "    def conver_grados_lista(self, origen, destino):\n",
    "        for i in self.lista:\n",
    "            self.conver_grados(i, origen, destino)\n",
    "#---------------------------factorial----------------------------------------\n",
    "    def factorial(self, num):\n",
    "        if type(num) != int:\n",
    "            return 'El número debe ser un entero'\n",
    "        if num < 0:\n",
    "            return 'El número debe ser positivo'\n",
    "\n",
    "        if num > 1:\n",
    "            num = num * self.factorial(num-1)\n",
    "        return num     \n",
    "\n",
    "    def factorial_lista(self):\n",
    "        for i in self.lista:\n",
    "            print ('el factorial de ',i,'es', self.factorial(i))\n",
    "\n"
   ]
  },
  {
   "cell_type": "code",
   "execution_count": null,
   "metadata": {},
   "outputs": [],
   "source": [
    "hlist=H7list([1,2,3,4,5,3,4,6,5,3,2,5,8,6])\n"
   ]
  },
  {
   "cell_type": "code",
   "execution_count": null,
   "metadata": {},
   "outputs": [],
   "source": [
    "hlist.primolista()"
   ]
  },
  {
   "cell_type": "code",
   "execution_count": null,
   "metadata": {},
   "outputs": [],
   "source": [
    "hlist.conver_grados_lista('celsius','kelvin')"
   ]
  },
  {
   "cell_type": "code",
   "execution_count": null,
   "metadata": {},
   "outputs": [],
   "source": [
    "hlist.valor_modal_lista(True)\n",
    "hlist.valor_modal_lista(False)"
   ]
  },
  {
   "cell_type": "code",
   "execution_count": null,
   "metadata": {},
   "outputs": [],
   "source": [
    "hlist.factorial_lista()"
   ]
  },
  {
   "attachments": {},
   "cell_type": "markdown",
   "metadata": {},
   "source": [
    "8) Crear un archivo .py aparte y ubicar allí la clase generada en el punto anterior. Luego realizar la importación del módulo y probar alguna de sus funciones"
   ]
  },
  {
   "cell_type": "code",
   "execution_count": null,
   "metadata": {},
   "outputs": [],
   "source": []
  },
  {
   "cell_type": "code",
   "execution_count": 154,
   "metadata": {},
   "outputs": [],
   "source": [
    "from H7 import H7list"
   ]
  },
  {
   "cell_type": "code",
   "execution_count": 155,
   "metadata": {},
   "outputs": [
    {
     "name": "stdout",
     "output_type": "stream",
     "text": [
      "la temp 1 farenheit equivale a 306.95 kelvin\n",
      "la temp 1 farenheit equivale a 306.95 kelvin\n",
      "la temp 1 farenheit equivale a 306.95 kelvin\n",
      "la temp 2 farenheit equivale a 308.75 kelvin\n",
      "la temp 2 farenheit equivale a 308.75 kelvin\n",
      "la temp 2 farenheit equivale a 308.75 kelvin\n",
      "la temp 3 farenheit equivale a 310.54999999999995 kelvin\n",
      "la temp 3 farenheit equivale a 310.54999999999995 kelvin\n",
      "la temp 3 farenheit equivale a 310.54999999999995 kelvin\n",
      "la temp 4 farenheit equivale a 312.34999999999997 kelvin\n",
      "la temp 4 farenheit equivale a 312.34999999999997 kelvin\n",
      "la temp 4 farenheit equivale a 312.34999999999997 kelvin\n",
      "la temp 5 farenheit equivale a 314.15 kelvin\n",
      "la temp 4 farenheit equivale a 312.34999999999997 kelvin\n",
      "el factorial de  1 es 1\n",
      "el factorial de  1 es 1\n",
      "el factorial de  1 es 1\n",
      "el factorial de  2 es 2\n",
      "el factorial de  2 es 2\n",
      "el factorial de  2 es 2\n",
      "el factorial de  3 es 6\n",
      "el factorial de  3 es 6\n",
      "el factorial de  3 es 6\n",
      "el factorial de  4 es 24\n",
      "el factorial de  4 es 24\n",
      "el factorial de  4 es 24\n",
      "el factorial de  5 es 120\n",
      "el factorial de  4 es 24\n"
     ]
    }
   ],
   "source": [
    "hlist2 = H7list([1,1,1,2,2,2,3,3,3,4,4,4,5,4])\n",
    "hlist2.conver_grados_lista('farenheit','kelvin')\n",
    "hlist2.factorial_lista()\n"
   ]
  },
  {
   "cell_type": "code",
   "execution_count": null,
   "metadata": {},
   "outputs": [],
   "source": []
  }
 ],
 "metadata": {
  "interpreter": {
   "hash": "c85384e4cb51c8b72350f3a8712cc8351fdc3955e32a27f9b60c6242ab125f01"
  },
  "kernelspec": {
   "display_name": "Python 3 (ipykernel)",
   "language": "python",
   "name": "python3"
  },
  "language_info": {
   "codemirror_mode": {
    "name": "ipython",
    "version": 3
   },
   "file_extension": ".py",
   "mimetype": "text/x-python",
   "name": "python",
   "nbconvert_exporter": "python",
   "pygments_lexer": "ipython3",
   "version": "3.11.4"
  }
 },
 "nbformat": 4,
 "nbformat_minor": 4
}
