{
 "cells": [
  {
   "attachments": {},
   "cell_type": "markdown",
   "metadata": {},
   "source": [
    "## Manejo de errores"
   ]
  },
  {
   "attachments": {},
   "cell_type": "markdown",
   "metadata": {},
   "source": [
    "1) Con la clase creada en el módulo 7, tener en cuenta diferentes casos en que el código pudiera arrojar error. Por ejemplo, en la creación del objeto recibimos una lista de números enteros pero ¿qué pasa si se envía otro tipo de dato?"
   ]
  },
  {
   "cell_type": "code",
   "execution_count": null,
   "metadata": {},
   "outputs": [],
   "source": [
    "#no pasa nada hasta que se tiene que usar la lista"
   ]
  },
  {
   "cell_type": "code",
   "execution_count": 1,
   "metadata": {},
   "outputs": [],
   "source": [
    "import H7_9 as h\n"
   ]
  },
  {
   "cell_type": "code",
   "execution_count": 2,
   "metadata": {},
   "outputs": [],
   "source": [
    "#h1 = h.H7list('ho')\n",
    "hl= h.H7list([1,2,3,4,5,6,6])\n"
   ]
  },
  {
   "attachments": {},
   "cell_type": "markdown",
   "metadata": {},
   "source": [
    "2) En la función que hace la conversión de grados, validar que los parámetros enviados sean los esperados, de no serlo, informar cuáles son los valores esperados."
   ]
  },
  {
   "cell_type": "code",
   "execution_count": 41,
   "metadata": {},
   "outputs": [
    {
     "data": {
      "text/plain": [
       "<module 'H7_9' from 'c:\\\\Users\\\\Luis Meza\\\\Desktop\\\\henry\\\\Python-Prep\\\\M09_errorhandling\\\\H7_9.py'>"
      ]
     },
     "execution_count": 41,
     "metadata": {},
     "output_type": "execute_result"
    }
   ],
   "source": [
    "import importlib\n",
    "importlib.reload(h)"
   ]
  },
  {
   "cell_type": "code",
   "execution_count": 43,
   "metadata": {},
   "outputs": [
    {
     "name": "stdout",
     "output_type": "stream",
     "text": [
      "el dato de origen no esta dentro de los valores esperados ['celsius', 'farenheit', 'kelvin']\n"
     ]
    }
   ],
   "source": [
    "hl= h.H7list([1,2,3,4,5,6,6])\n",
    "hl.conver_grados_lista('cellsius','kElvin')"
   ]
  },
  {
   "attachments": {},
   "cell_type": "markdown",
   "metadata": {},
   "source": [
    "3) Importar el modulo \"unittest\" y crear los siguientes casos de pruebas sobre la clase utilizada en el punto 2<br>\n",
    "Creacion del objeto incorrecta<br>\n",
    "Creacion correcta del objeto<br>\n",
    "Metodo valor_modal()<br>\n",
    "\n",
    "Se puede usar \"raise ValueError()\" en la creación de la clase para verificar el error. Investigar sobre esta funcionalidad."
   ]
  },
  {
   "cell_type": "code",
   "execution_count": 65,
   "metadata": {},
   "outputs": [],
   "source": [
    "import unittest\n",
    "import H7_9 as h"
   ]
  },
  {
   "cell_type": "code",
   "execution_count": 66,
   "metadata": {},
   "outputs": [],
   "source": [
    "class ProbandoMiClase(unittest.TestCase):\n",
    "    \n",
    "    def test_crearobjetoerror(self):\n",
    "        param = 'hola'\n",
    "        self.assertRaises(ValueError, h.H7list, param)\n",
    "    \n",
    "    def test_crearobjetoCorrecto(self):\n",
    "        param = [1,2,3,4,5,2]\n",
    "        h1= h.H7list(param)\n",
    "        self.assertEqual(h1.lista,param)\n",
    "\n",
    "    def test_modal(self):\n",
    "        h1= h.H7list([1,2,3,4,5,2])\n",
    "        moda, veces = h1.valor_modal_lista() # obtener la moda y las repeticiones del valor modal\n",
    "               \n",
    "        self.assertEqual([moda, veces], [2,2]) #comparo [moda,veces] con [2,2]\n",
    "       \n",
    "\n",
    "\n",
    "        "
   ]
  },
  {
   "cell_type": "code",
   "execution_count": 67,
   "metadata": {},
   "outputs": [
    {
     "data": {
      "text/plain": [
       "(2, 2)"
      ]
     },
     "execution_count": 67,
     "metadata": {},
     "output_type": "execute_result"
    }
   ],
   "source": [
    "\n",
    "h1= h.H7list([1,2,3,4,5,2])\n",
    "h1.valor_modal_lista(True)\n",
    "       "
   ]
  },
  {
   "cell_type": "code",
   "execution_count": 68,
   "metadata": {},
   "outputs": [
    {
     "name": "stderr",
     "output_type": "stream",
     "text": [
      "test_crearobjetoCorrecto (__main__.ProbandoMiClase.test_crearobjetoCorrecto) ... ok\n",
      "test_crearobjetoerror (__main__.ProbandoMiClase.test_crearobjetoerror) ... ok\n",
      "test_modal (__main__.ProbandoMiClase.test_modal) ... ok\n",
      "\n",
      "----------------------------------------------------------------------\n",
      "Ran 3 tests in 0.007s\n",
      "\n",
      "OK\n"
     ]
    },
    {
     "data": {
      "text/plain": [
       "<unittest.main.TestProgram at 0x18c4a4f5110>"
      ]
     },
     "execution_count": 68,
     "metadata": {},
     "output_type": "execute_result"
    }
   ],
   "source": [
    "unittest.main(argv=[''], verbosity=2, exit=False)"
   ]
  },
  {
   "attachments": {},
   "cell_type": "markdown",
   "metadata": {},
   "source": [
    "4) Probar una creación incorrecta y visualizar la salida del \"raise\""
   ]
  },
  {
   "cell_type": "code",
   "execution_count": null,
   "metadata": {},
   "outputs": [],
   "source": [
    "   # h1= h.H7list(1)"
   ]
  },
  {
   "attachments": {},
   "cell_type": "markdown",
   "metadata": {},
   "source": [
    "6) Agregar casos de pruebas para el método verifica_primos() realizando el cambio en la clase, para que devuelva una lista de True o False en función de que el elemento en la posisicón sea o no primo"
   ]
  },
  {
   "cell_type": "code",
   "execution_count": 88,
   "metadata": {},
   "outputs": [
    {
     "data": {
      "text/plain": [
       "[True, True, False]"
      ]
     },
     "execution_count": 88,
     "metadata": {},
     "output_type": "execute_result"
    }
   ],
   "source": [
    "\n",
    "importlib.reload(h)\n",
    "h1= h.H7list([1,2,4])\n",
    "h1.primolista()\n",
    "\n"
   ]
  },
  {
   "cell_type": "code",
   "execution_count": null,
   "metadata": {},
   "outputs": [],
   "source": [
    "import unittest\n",
    "class ProbandoMiClase(unittest.TestCase):\n",
    "\n",
    "    def test_primoFail(self):\n",
    "        h1= h.H7list([1,2,4])\n",
    "        results = h1.primolista()\n",
    "        self.assertEqual(results,[True,False,False]) #debe ser fail.\n",
    "\n",
    "    def test_primoCorrect(self):\n",
    "        h1= h.H7list([1,2,4])\n",
    "        results = h1.primolista()\n",
    "        self.assertEqual(results,[True,True,False])   \n",
    "\n",
    "\n",
    "unittest.main(argv=[''], verbosity=2, exit=False) "
   ]
  },
  {
   "attachments": {},
   "cell_type": "markdown",
   "metadata": {},
   "source": [
    "7) Agregar casos de pruebas para el método conversion_grados()"
   ]
  },
  {
   "cell_type": "code",
   "execution_count": 1,
   "metadata": {},
   "outputs": [
    {
     "data": {
      "text/plain": [
       "[-272.15, -271.15, -269.15]"
      ]
     },
     "execution_count": 1,
     "metadata": {},
     "output_type": "execute_result"
    }
   ],
   "source": [
    "import unittest\n",
    "import importlib\n",
    "import H7_9 as h\n",
    "importlib.reload(h)\n",
    "\n",
    "h1= h.H7list([1,2,4])\n",
    "\n",
    "h1.conver_grados_lista('kelvin','celsius')"
   ]
  },
  {
   "cell_type": "code",
   "execution_count": 10,
   "metadata": {},
   "outputs": [
    {
     "name": "stderr",
     "output_type": "stream",
     "text": [
      "test_probarcambiodetempcorrect (__main__.Probando_temperatura.test_probarcambiodetempcorrect) ... ok\n",
      "test_probarcambiodetempfail (__main__.Probando_temperatura.test_probarcambiodetempfail) ... FAIL\n",
      "\n",
      "======================================================================\n",
      "FAIL: test_probarcambiodetempfail (__main__.Probando_temperatura.test_probarcambiodetempfail)\n",
      "----------------------------------------------------------------------\n",
      "Traceback (most recent call last):\n",
      "  File \"C:\\Users\\Luis Meza\\AppData\\Local\\Temp\\ipykernel_11344\\1072135460.py\", line 9, in test_probarcambiodetempfail\n",
      "    self.assertEqual(h1.conver_grados_lista('kelvin','farenheit'),[-272.15, -271.15, -269.15])\n",
      "AssertionError: Lists differ: [-457.87, -456.07, -452.46999999999997] != [-272.15, -271.15, -269.15]\n",
      "\n",
      "First differing element 0:\n",
      "-457.87\n",
      "-272.15\n",
      "\n",
      "- [-457.87, -456.07, -452.46999999999997]\n",
      "+ [-272.15, -271.15, -269.15]\n",
      "\n",
      "----------------------------------------------------------------------\n",
      "Ran 2 tests in 0.007s\n",
      "\n",
      "FAILED (failures=1)\n"
     ]
    },
    {
     "data": {
      "text/plain": [
       "<unittest.main.TestProgram at 0x202baac0290>"
      ]
     },
     "execution_count": 10,
     "metadata": {},
     "output_type": "execute_result"
    }
   ],
   "source": [
    "class Probando_temperatura(unittest.TestCase):\n",
    "    \n",
    "    def test_probarcambiodetempcorrect(self):\n",
    "        h1= h.H7list([1,2,4])\n",
    "        self.assertEqual(h1.conver_grados_lista('kelvin','celsius'),[-272.15, -271.15, -269.15])\n",
    "\n",
    "    def test_probarcambiodetempfail(self):\n",
    "        h1= h.H7list([1,2,4])\n",
    "        self.assertEqual(h1.conver_grados_lista('kelvin','farenheit'),[-272.15, -271.15, -269.15])\n",
    "\n",
    "unittest.main(argv=[''], verbosity=2, exit=False)\n"
   ]
  },
  {
   "attachments": {},
   "cell_type": "markdown",
   "metadata": {},
   "source": [
    "8) Agregar casos de pruebas para el método factorial()"
   ]
  },
  {
   "cell_type": "code",
   "execution_count": 28,
   "metadata": {},
   "outputs": [
    {
     "name": "stdout",
     "output_type": "stream",
     "text": [
      "[1, 2, 6, 24, 720, 5040]\n"
     ]
    }
   ],
   "source": [
    "import unittest\n",
    "import importlib\n",
    "\n",
    "import H7_9 as h\n",
    "importlib.reload(h)\n",
    "\n",
    "\n",
    "h1 = h.H7list([1,2,3,4,6,7])\n",
    "#h1.factorial_lista()\n",
    "resultado = h1.factorial_lista()\n",
    "print (resultado)\n",
    " "
   ]
  },
  {
   "cell_type": "code",
   "execution_count": 36,
   "metadata": {},
   "outputs": [
    {
     "name": "stderr",
     "output_type": "stream",
     "text": [
      "test_Factoriallista_exito (__main__.ProbandoMiClase.test_Factoriallista_exito) ... ok\n",
      "test_Factoriallista_fail (__main__.ProbandoMiClase.test_Factoriallista_fail) ... FAIL\n",
      "\n",
      "======================================================================\n",
      "FAIL: test_Factoriallista_fail (__main__.ProbandoMiClase.test_Factoriallista_fail)\n",
      "----------------------------------------------------------------------\n",
      "Traceback (most recent call last):\n",
      "  File \"C:\\Users\\Luis Meza\\AppData\\Local\\Temp\\ipykernel_14776\\11932830.py\", line 13, in test_Factoriallista_fail\n",
      "    self.assertEqual(resultado,[2, 2, 6, 24, 720, 5040])\n",
      "AssertionError: Lists differ: [1, 2, 6, 24, 720, 5040] != [2, 2, 6, 24, 720, 5040]\n",
      "\n",
      "First differing element 0:\n",
      "1\n",
      "2\n",
      "\n",
      "- [1, 2, 6, 24, 720, 5040]\n",
      "?  ---\n",
      "\n",
      "+ [2, 2, 6, 24, 720, 5040]\n",
      "?     +++\n",
      "\n",
      "\n",
      "----------------------------------------------------------------------\n",
      "Ran 2 tests in 0.009s\n",
      "\n",
      "FAILED (failures=1)\n"
     ]
    },
    {
     "data": {
      "text/plain": [
       "<unittest.main.TestProgram at 0x27a4ec77210>"
      ]
     },
     "execution_count": 36,
     "metadata": {},
     "output_type": "execute_result"
    }
   ],
   "source": [
    "import unittest\n",
    "#class PruebaClaseFactorial(unittest.TestCase):\n",
    "class ProbandoMiClase(unittest.TestCase):\n",
    "\n",
    "    def test_Factoriallista_exito(self):\n",
    "        h1 = h.H7list([1,2,3,4,6,7])\n",
    "        resultado = h1.factorial_lista()\n",
    "        self.assertEqual(resultado,[1, 2, 6, 24, 720, 5040])\n",
    "\n",
    "    def test_Factoriallista_fail(self):\n",
    "        h1 = h.H7list([1,2,3,4,6,7])\n",
    "        resultado = h1.factorial_lista()\n",
    "        self.assertEqual(resultado,[2, 2, 6, 24, 720, 5040])\n",
    "        \n",
    "unittest.main(argv=[''],verbosity=2, exit=False)\n",
    " "
   ]
  }
 ],
 "metadata": {
  "interpreter": {
   "hash": "c85384e4cb51c8b72350f3a8712cc8351fdc3955e32a27f9b60c6242ab125f01"
  },
  "kernelspec": {
   "display_name": "Python 3 (ipykernel)",
   "language": "python",
   "name": "python3"
  },
  "language_info": {
   "codemirror_mode": {
    "name": "ipython",
    "version": 3
   },
   "file_extension": ".py",
   "mimetype": "text/x-python",
   "name": "python",
   "nbconvert_exporter": "python",
   "pygments_lexer": "ipython3",
   "version": "3.11.4"
  }
 },
 "nbformat": 4,
 "nbformat_minor": 4
}
